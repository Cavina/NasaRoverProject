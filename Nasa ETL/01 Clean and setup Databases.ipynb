{
 "cells": [
  {
   "cell_type": "markdown",
   "metadata": {
    "application/vnd.databricks.v1+cell": {
     "cellMetadata": {},
     "inputWidgets": {},
     "nuid": "d1d6868f-eb57-42fd-8021-40983559d17d",
     "showTitle": false,
     "title": ""
    }
   },
   "source": [
    "Clean up databases and filepaths before beginning."
   ]
  },
  {
   "cell_type": "code",
   "execution_count": 0,
   "metadata": {
    "application/vnd.databricks.v1+cell": {
     "cellMetadata": {},
     "inputWidgets": {},
     "nuid": "ec88df47-a3aa-4bb7-921a-d79df6000a44",
     "showTitle": false,
     "title": ""
    }
   },
   "outputs": [],
   "source": [
    "%sql\n",
    "DROP DATABASE IF EXISTS nasa_rover_bronze CASCADE;\n",
    "DROP DATABASE IF EXISTS nasa_rover_silver CASCADE;\n",
    "DROP DATABASE IF EXISTS nasa_rover_gold CASCADE;"
   ]
  },
  {
   "cell_type": "code",
   "execution_count": 0,
   "metadata": {
    "application/vnd.databricks.v1+cell": {
     "cellMetadata": {},
     "inputWidgets": {},
     "nuid": "070811f8-a8ed-4a10-9713-c70432cc46ed",
     "showTitle": false,
     "title": ""
    }
   },
   "outputs": [],
   "source": [
    "dbutils.fs.rm(dbutils.widgets.get('bronze_base_dir'), recurse=True)\n",
    "dbutils.fs.rm(dbutils.widgets.get('silver_base_dir'), recurse=True)\n",
    "dbutils.fs.rm(dbutils.widgets.get('gold_base_dir'), recurse=True)"
   ]
  }
 ],
 "metadata": {
  "application/vnd.databricks.v1+notebook": {
   "dashboards": [],
   "environmentMetadata": null,
   "language": "python",
   "notebookMetadata": {
    "pythonIndentUnit": 4
   },
   "notebookName": "01 Clean and setup Databases",
   "widgets": {}
  }
 },
 "nbformat": 4,
 "nbformat_minor": 0
}
