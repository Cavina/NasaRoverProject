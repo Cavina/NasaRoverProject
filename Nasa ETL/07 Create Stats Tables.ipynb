{
 "cells": [
  {
   "cell_type": "code",
   "execution_count": 0,
   "metadata": {
    "application/vnd.databricks.v1+cell": {
     "cellMetadata": {
      "byteLimit": 2048000,
      "rowLimit": 10000
     },
     "inputWidgets": {},
     "nuid": "e7881d83-52ad-4b46-8a06-ecdfce3db9b0",
     "showTitle": false,
     "title": ""
    }
   },
   "outputs": [],
   "source": [
    "from pyspark.sql.functions import count, countDistinct, col, avg, max, datediff, current_date, first"
   ]
  },
  {
   "cell_type": "code",
   "execution_count": 0,
   "metadata": {
    "application/vnd.databricks.v1+cell": {
     "cellMetadata": {
      "byteLimit": 2048000,
      "rowLimit": 10000
     },
     "inputWidgets": {},
     "nuid": "d4610906-6aab-47cf-b8dc-eeb79f03c61b",
     "showTitle": false,
     "title": ""
    }
   },
   "outputs": [],
   "source": [
    "photos_df = spark.table(\"nasa_rover_gold.photos\")\n",
    "mission_manifest_df = spark.table(\"nasa_rover_gold.mission_manifest\")\n",
    "cameras_df = spark.table(\"nasa_rover_gold.camera\")"
   ]
  },
  {
   "cell_type": "markdown",
   "metadata": {
    "application/vnd.databricks.v1+cell": {
     "cellMetadata": {},
     "inputWidgets": {},
     "nuid": "56786d49-5d9c-427c-8a40-95259e095d32",
     "showTitle": false,
     "title": ""
    }
   },
   "source": [
    "### Photo Summary Table"
   ]
  },
  {
   "cell_type": "code",
   "execution_count": 0,
   "metadata": {
    "application/vnd.databricks.v1+cell": {
     "cellMetadata": {
      "byteLimit": 2048000,
      "rowLimit": 10000
     },
     "inputWidgets": {},
     "nuid": "45760a3e-48f0-4625-982c-80afb968a2b1",
     "showTitle": false,
     "title": ""
    }
   },
   "outputs": [],
   "source": [
    "photos_summary_df = photos_df.groupBy(\"sol\").agg(\n",
    "    count(\"photo_id\").alias(\"photo_count\"),\n",
    "    countDistinct(\"camera_id\").alias(\"camera_count\"),\n",
    "    first(\"rover_id\").alias(\"rover_id\")\n",
    ").orderBy(\"sol\")\n",
    "\n",
    "photos_summary_df.display()"
   ]
  },
  {
   "cell_type": "markdown",
   "metadata": {
    "application/vnd.databricks.v1+cell": {
     "cellMetadata": {},
     "inputWidgets": {},
     "nuid": "79cbf652-a590-4f21-a524-0c3cef2158d5",
     "showTitle": false,
     "title": ""
    }
   },
   "source": [
    "### Camera Usage Table"
   ]
  },
  {
   "cell_type": "code",
   "execution_count": 0,
   "metadata": {
    "application/vnd.databricks.v1+cell": {
     "cellMetadata": {
      "byteLimit": 2048000,
      "rowLimit": 10000
     },
     "inputWidgets": {},
     "nuid": "f035c474-0c59-4654-a906-aa0a252338af",
     "showTitle": false,
     "title": ""
    }
   },
   "outputs": [
    {
     "output_type": "display_data",
     "data": {
      "text/plain": [
       "Databricks visualization. Run in Databricks to view."
      ]
     },
     "metadata": {
      "application/vnd.databricks.v1.subcommand+json": {
       "baseErrorDetails": null,
       "bindings": {},
       "collapsed": false,
       "command": "%python\n__backend_agg_display_orig = display\n__backend_agg_dfs = []\ndef __backend_agg_display_new(df):\n    __backend_agg_df_modules = [\"pandas.core.frame\", \"databricks.koalas.frame\", \"pyspark.sql.dataframe\", \"pyspark.pandas.frame\", \"pyspark.sql.connect.dataframe\"]\n    if (type(df).__module__ in __backend_agg_df_modules and type(df).__name__ == 'DataFrame') or isinstance(df, list):\n        __backend_agg_dfs.append(df)\n\ndisplay = __backend_agg_display_new\n\ndef __backend_agg_user_code_fn():\n    import base64\n    exec(base64.standard_b64decode(\"Y2FtZXJhX3VzYWdlX2RmID0gcGhvdG9zX2RmLmdyb3VwQnkoImNhbWVyYV9pZCIpLmFnZygKICAgIGNvdW50KCJwaG90b19pZCIpLmFsaWFzKCJwaG90b19jb3VudCIpCikuam9pbigKICAgIGNhbWVyYXNfZGYsCiAgICBwaG90b3NfZGZbImNhbWVyYV9pZCJdID09IGNhbWVyYXNfZGZbImNhbWVyYV9pZCJdLCAKICAgIGhvdz0ibGVmdCIKKS5zZWxlY3QoCiAgICBwaG90b3NfZGZbImNhbWVyYV9pZCJdLAogICAgY29sKCJjYW1lcmFfbmFtZSIpLmFsaWFzKCJjYW1lcmFfbmFtZSIpLAogICAgY29sKCJyb3Zlcl9pZCIpLAogICAgY29sKCJwaG90b19jb3VudCIpCikub3JkZXJCeShjb2woInBob3RvX2NvdW50IikuZGVzYygpKQoKY2FtZXJhX3VzYWdlX2RmLmRpc3BsYXkoKQ==\").decode())\n\ntry:\n    # run user code\n    __backend_agg_user_code_fn()\n\n    #reset display function\n    display = __backend_agg_display_orig\n\n    if len(__backend_agg_dfs) > 0:\n        # create a temp view\n        if type(__backend_agg_dfs[0]).__module__ == \"databricks.koalas.frame\":\n            # koalas dataframe\n            __backend_agg_dfs[0].to_spark().createOrReplaceTempView(\"DatabricksViewe1f8e6b\")\n        elif type(__backend_agg_dfs[0]).__module__ == \"pandas.core.frame\" or isinstance(__backend_agg_dfs[0], list):\n            # pandas dataframe\n            spark.createDataFrame(__backend_agg_dfs[0]).createOrReplaceTempView(\"DatabricksViewe1f8e6b\")\n        else:\n            __backend_agg_dfs[0].createOrReplaceTempView(\"DatabricksViewe1f8e6b\")\n        #run backend agg\n        display(spark.sql(\"\"\"WITH q AS (select * from DatabricksViewe1f8e6b) SELECT `camera_name`,SUM(`photo_count`) `column_1411e5b412` FROM q GROUP BY `camera_name`\"\"\"))\n    else:\n        displayHTML(\"dataframe no longer exists. If you're using dataframe.display(), use display(dataframe) instead.\")\n\n\nfinally:\n    spark.sql(\"drop view if exists DatabricksViewe1f8e6b\")\n    display = __backend_agg_display_orig\n    del __backend_agg_display_new\n    del __backend_agg_display_orig\n    del __backend_agg_dfs\n    del __backend_agg_user_code_fn\n\n",
       "commandTitle": "Visualization 1",
       "commandType": "auto",
       "commandVersion": 0,
       "commentThread": [],
       "commentsVisible": false,
       "contentSha256Hex": null,
       "customPlotOptions": {
        "redashChart": [
         {
          "key": "type",
          "value": "CHART"
         },
         {
          "key": "options",
          "value": {
           "alignYAxesAtZero": true,
           "coefficient": 1,
           "columnConfigurationMap": {
            "x": {
             "column": "camera_name",
             "id": "column_1411e5b410"
            },
            "y": [
             {
              "column": "photo_count",
              "id": "column_1411e5b412",
              "transform": "SUM"
             }
            ]
           },
           "dateTimeFormat": "DD/MM/YYYY HH:mm",
           "direction": {
            "type": "counterclockwise"
           },
           "error_y": {
            "type": "data",
            "visible": true
           },
           "globalSeriesType": "pie",
           "isAggregationOn": true,
           "legend": {
            "traceorder": "normal"
           },
           "missingValuesAsZero": true,
           "numberFormat": "0,0.[00000]",
           "percentFormat": "0[.]00%",
           "series": {
            "error_y": {
             "type": "data",
             "visible": true
            },
            "stacking": null
           },
           "seriesOptions": {
            "column_1411e5b412": {
             "type": "pie",
             "yAxis": 0
            }
           },
           "showDataLabels": true,
           "sizemode": "diameter",
           "sortX": true,
           "sortY": true,
           "swappedAxes": false,
           "textFormat": "",
           "useAggregationsUi": true,
           "valuesOptions": {},
           "version": 2,
           "xAxis": {
            "labels": {
             "enabled": true
            },
            "type": "-"
           },
           "yAxis": [
            {
             "type": "-"
            },
            {
             "opposite": true,
             "type": "-"
            }
           ]
          }
         }
        ]
       },
       "datasetPreviewNameToCmdIdMap": {},
       "diffDeletes": [],
       "diffInserts": [],
       "displayType": "redashChart",
       "error": null,
       "errorDetails": null,
       "errorSummary": null,
       "errorTraceType": null,
       "finishTime": 0,
       "globalVars": {},
       "guid": "",
       "height": "auto",
       "hideCommandCode": false,
       "hideCommandResult": false,
       "iPythonMetadata": null,
       "inputWidgets": {},
       "isLockedInExamMode": false,
       "latestUser": "a user",
       "latestUserId": null,
       "listResultMetadata": null,
       "metadata": {
        "byteLimit": 2048000,
        "rowLimit": 10000
       },
       "nuid": "a86d32d9-89f5-46e7-b850-647b1020c72a",
       "origId": 0,
       "parentHierarchy": [],
       "pivotAggregation": null,
       "pivotColumns": null,
       "position": 8.0,
       "resultDbfsErrorMessage": null,
       "resultDbfsStatus": "INLINED_IN_TREE",
       "results": null,
       "showCommandTitle": false,
       "startTime": 0,
       "state": "input",
       "streamStates": {},
       "subcommandOptions": {
        "queryPlan": {
         "groups": [
          {
           "column": "camera_name",
           "type": "column"
          }
         ],
         "selects": [
          {
           "column": "camera_name",
           "type": "column"
          },
          {
           "alias": "column_1411e5b412",
           "args": [
            {
             "column": "photo_count",
             "type": "column"
            }
           ],
           "function": "SUM",
           "type": "function"
          }
         ]
        }
       },
       "submitTime": 0,
       "subtype": "tableResultSubCmd.visualization",
       "tableResultIndex": 0,
       "useConsistentColors": false,
       "version": "CommandV1",
       "width": "auto",
       "workflows": null,
       "xColumns": null,
       "yColumns": null
      }
     },
     "output_type": "display_data"
    }
   ],
   "source": [
    "camera_usage_df = photos_df.groupBy(\"camera_id\").agg(\n",
    "    count(\"photo_id\").alias(\"photo_count\")\n",
    ").join(\n",
    "    cameras_df,\n",
    "    photos_df[\"camera_id\"] == cameras_df[\"camera_id\"], \n",
    "    how=\"left\"\n",
    ").select(\n",
    "    photos_df[\"camera_id\"],\n",
    "    col(\"camera_name\").alias(\"camera_name\"),\n",
    "    col(\"rover_id\"),\n",
    "    col(\"photo_count\")\n",
    ").orderBy(col(\"photo_count\").desc())\n",
    "\n",
    "camera_usage_df.display()"
   ]
  },
  {
   "cell_type": "markdown",
   "metadata": {
    "application/vnd.databricks.v1+cell": {
     "cellMetadata": {},
     "inputWidgets": {},
     "nuid": "3f61846e-298a-4223-b915-d623a31bb613",
     "showTitle": false,
     "title": ""
    }
   },
   "source": [
    "### Rover Activity Table"
   ]
  },
  {
   "cell_type": "code",
   "execution_count": 0,
   "metadata": {
    "application/vnd.databricks.v1+cell": {
     "cellMetadata": {
      "byteLimit": 2048000,
      "rowLimit": 10000
     },
     "inputWidgets": {},
     "nuid": "29fc3e30-5e8d-4b34-a463-cf508fefa956",
     "showTitle": false,
     "title": ""
    }
   },
   "outputs": [
    {
     "output_type": "display_data",
     "data": {
      "text/plain": [
       "Databricks visualization. Run in Databricks to view."
      ]
     },
     "metadata": {
      "application/vnd.databricks.v1.subcommand+json": {
       "baseErrorDetails": null,
       "bindings": {},
       "collapsed": false,
       "command": "%python\n__backend_agg_display_orig = display\n__backend_agg_dfs = []\ndef __backend_agg_display_new(df):\n    __backend_agg_df_modules = [\"pandas.core.frame\", \"databricks.koalas.frame\", \"pyspark.sql.dataframe\", \"pyspark.pandas.frame\", \"pyspark.sql.connect.dataframe\"]\n    if (type(df).__module__ in __backend_agg_df_modules and type(df).__name__ == 'DataFrame') or isinstance(df, list):\n        __backend_agg_dfs.append(df)\n\ndisplay = __backend_agg_display_new\n\ndef __backend_agg_user_code_fn():\n    import base64\n    exec(base64.standard_b64decode(\"cm92ZXJfYWN0aXZpdHlfZGYgPSBwaG90b3NfZGYuZ3JvdXBCeSgicm92ZXJfaWQiKS5hZ2coCiAgICBjb3VudCgicGhvdG9faWQiKS5hbGlhcygidG90YWxfcGhvdG9zIiksCiAgICBhdmcoInNvbCIpLmFsaWFzKCJhdmVyYWdlX3NvbF9waG90b3MiKSwKICAgIG1heCgic29sIikuYWxpYXMoIm1heF9zb2wiKQopLmpvaW4obWlzc2lvbl9tYW5pZmVzdF9kZiwgb249InJvdmVyX2lkIiwgaG93PSJsZWZ0Iikuc2VsZWN0KAogICAgY29sKCJyb3Zlcl9pZCIpLAogICAgY29sKCJyb3Zlcl9uYW1lIiksCiAgICBjb2woInRvdGFsX3Bob3RvcyIpLAogICAgY29sKCJhdmVyYWdlX3NvbF9waG90b3MiKSwKICAgIGNvbCgibWF4X3NvbCIpCikub3JkZXJCeShjb2woInRvdGFsX3Bob3RvcyIpLmRlc2MoKSkKCnJvdmVyX2FjdGl2aXR5X2RmLmRpc3BsYXkoKQ==\").decode())\n\ntry:\n    # run user code\n    __backend_agg_user_code_fn()\n\n    #reset display function\n    display = __backend_agg_display_orig\n\n    if len(__backend_agg_dfs) > 0:\n        # create a temp view\n        if type(__backend_agg_dfs[0]).__module__ == \"databricks.koalas.frame\":\n            # koalas dataframe\n            __backend_agg_dfs[0].to_spark().createOrReplaceTempView(\"DatabricksViewd9a316a\")\n        elif type(__backend_agg_dfs[0]).__module__ == \"pandas.core.frame\" or isinstance(__backend_agg_dfs[0], list):\n            # pandas dataframe\n            spark.createDataFrame(__backend_agg_dfs[0]).createOrReplaceTempView(\"DatabricksViewd9a316a\")\n        else:\n            __backend_agg_dfs[0].createOrReplaceTempView(\"DatabricksViewd9a316a\")\n        #run backend agg\n        display(spark.sql(\"\"\"WITH q AS (select * from DatabricksViewd9a316a) SELECT `rover_name`,SUM(`total_photos`) `column_d779d8008`,`rover_name` FROM q GROUP BY `rover_name`\"\"\"))\n    else:\n        displayHTML(\"dataframe no longer exists. If you're using dataframe.display(), use display(dataframe) instead.\")\n\n\nfinally:\n    spark.sql(\"drop view if exists DatabricksViewd9a316a\")\n    display = __backend_agg_display_orig\n    del __backend_agg_display_new\n    del __backend_agg_display_orig\n    del __backend_agg_dfs\n    del __backend_agg_user_code_fn\n\n",
       "commandTitle": "Visualization 1",
       "commandType": "auto",
       "commandVersion": 0,
       "commentThread": [],
       "commentsVisible": false,
       "contentSha256Hex": null,
       "customPlotOptions": {
        "redashChart": [
         {
          "key": "type",
          "value": "CHART"
         },
         {
          "key": "options",
          "value": {
           "alignYAxesAtZero": true,
           "coefficient": 1,
           "columnConfigurationMap": {
            "series": {
             "column": "rover_name",
             "id": "column_d779d80010"
            },
            "x": {
             "column": "rover_name",
             "id": "column_d779d8006"
            },
            "y": [
             {
              "column": "total_photos",
              "id": "column_d779d8008",
              "transform": "SUM"
             }
            ]
           },
           "dateTimeFormat": "DD/MM/YYYY HH:mm",
           "direction": {
            "type": "counterclockwise"
           },
           "error_y": {
            "type": "data",
            "visible": true
           },
           "globalSeriesType": "column",
           "isAggregationOn": true,
           "legend": {
            "traceorder": "normal"
           },
           "missingValuesAsZero": true,
           "numberFormat": "0,0.[00000]",
           "percentFormat": "0[.]00%",
           "series": {
            "error_y": {
             "type": "data",
             "visible": true
            },
            "stacking": null
           },
           "seriesOptions": {
            "column_d779d8008": {
             "type": "column",
             "yAxis": 0
            }
           },
           "showDataLabels": false,
           "sizemode": "diameter",
           "sortX": true,
           "sortY": true,
           "swappedAxes": false,
           "textFormat": "",
           "useAggregationsUi": true,
           "valuesOptions": {},
           "version": 2,
           "xAxis": {
            "labels": {
             "enabled": true
            },
            "type": "-"
           },
           "yAxis": [
            {
             "type": "-"
            },
            {
             "opposite": true,
             "type": "-"
            }
           ]
          }
         }
        ]
       },
       "datasetPreviewNameToCmdIdMap": {},
       "diffDeletes": [],
       "diffInserts": [],
       "displayType": "redashChart",
       "error": null,
       "errorDetails": null,
       "errorSummary": null,
       "errorTraceType": null,
       "finishTime": 0,
       "globalVars": {},
       "guid": "",
       "height": "auto",
       "hideCommandCode": false,
       "hideCommandResult": false,
       "iPythonMetadata": null,
       "inputWidgets": {},
       "isLockedInExamMode": false,
       "latestUser": "a user",
       "latestUserId": null,
       "listResultMetadata": null,
       "metadata": {
        "byteLimit": 2048000,
        "rowLimit": 10000
       },
       "nuid": "5628fab2-eeab-4611-ae22-0e5c4278f1ef",
       "origId": 0,
       "parentHierarchy": [],
       "pivotAggregation": null,
       "pivotColumns": null,
       "position": 10.0,
       "resultDbfsErrorMessage": null,
       "resultDbfsStatus": "INLINED_IN_TREE",
       "results": null,
       "showCommandTitle": false,
       "startTime": 0,
       "state": "input",
       "streamStates": {},
       "subcommandOptions": {
        "queryPlan": {
         "groups": [
          {
           "column": "rover_name",
           "type": "column"
          },
          {
           "column": "rover_name",
           "type": "column"
          }
         ],
         "selects": [
          {
           "column": "rover_name",
           "type": "column"
          },
          {
           "alias": "column_d779d8008",
           "args": [
            {
             "column": "total_photos",
             "type": "column"
            }
           ],
           "function": "SUM",
           "type": "function"
          },
          {
           "column": "rover_name",
           "type": "column"
          }
         ]
        }
       },
       "submitTime": 0,
       "subtype": "tableResultSubCmd.visualization",
       "tableResultIndex": 0,
       "useConsistentColors": false,
       "version": "CommandV1",
       "width": "auto",
       "workflows": null,
       "xColumns": null,
       "yColumns": null
      }
     },
     "output_type": "display_data"
    }
   ],
   "source": [
    "rover_activity_df = photos_df.groupBy(\"rover_id\").agg(\n",
    "    count(\"photo_id\").alias(\"total_photos\"),\n",
    "    avg(\"sol\").alias(\"average_sol_photos\"),\n",
    "    max(\"sol\").alias(\"max_sol\")\n",
    ").join(mission_manifest_df, on=\"rover_id\", how=\"left\").select(\n",
    "    col(\"rover_id\"),\n",
    "    col(\"rover_name\"),\n",
    "    col(\"total_photos\"),\n",
    "    col(\"average_sol_photos\"),\n",
    "    col(\"max_sol\")\n",
    ").orderBy(col(\"total_photos\").desc())\n",
    "\n",
    "rover_activity_df.display()"
   ]
  },
  {
   "cell_type": "markdown",
   "metadata": {
    "application/vnd.databricks.v1+cell": {
     "cellMetadata": {},
     "inputWidgets": {},
     "nuid": "27e99cd2-c2f0-4f8e-b0dd-fb9eb20e5b14",
     "showTitle": false,
     "title": ""
    }
   },
   "source": [
    "### Camera Efficiency Metrics"
   ]
  },
  {
   "cell_type": "code",
   "execution_count": 0,
   "metadata": {
    "application/vnd.databricks.v1+cell": {
     "cellMetadata": {
      "byteLimit": 2048000,
      "rowLimit": 10000
     },
     "inputWidgets": {},
     "nuid": "fad9f69b-5a28-4276-a694-9de41bc88e94",
     "showTitle": false,
     "title": ""
    }
   },
   "outputs": [
    {
     "output_type": "display_data",
     "data": {
      "text/plain": [
       "Databricks visualization. Run in Databricks to view."
      ]
     },
     "metadata": {
      "application/vnd.databricks.v1.subcommand+json": {
       "baseErrorDetails": null,
       "bindings": {},
       "collapsed": false,
       "command": "camera_efficiency_df = photos_df.groupBy(\"camera_id\", \"rover_id\").agg(\n    count(\"photo_id\").alias(\"photo_count\"),\n    (count(\"photo_id\") / countDistinct(\"sol\")).alias(\"efficiency_score\")\n).join(cameras_df, photos_df[\"camera_id\"] == cameras_df[\"camera_id\"], how=\"left\") \\\n.select(\n    photos_df[\"camera_id\"],\n    cameras_df[\"camera_name\"].alias(\"camera_name\"),\n    photos_df[\"rover_id\"],\n    \"photo_count\",\n    \"efficiency_score\"\n).orderBy(col(\"efficiency_score\").desc())\n\ncamera_efficiency_df.display()\n",
       "commandTitle": "Visualization 1",
       "commandType": "auto",
       "commandVersion": 0,
       "commentThread": [],
       "commentsVisible": false,
       "contentSha256Hex": null,
       "customPlotOptions": {
        "redashChart": [
         {
          "key": "type",
          "value": "TABLE"
         },
         {
          "key": "options",
          "value": {
           "columns": [
            {
             "alignContent": "right",
             "allowHTML": false,
             "allowSearch": false,
             "booleanValues": [
              "false",
              "true"
             ],
             "displayAs": "number",
             "highlightLinks": false,
             "imageHeight": "",
             "imageTitleTemplate": "{{ @ }}",
             "imageUrlTemplate": "{{ @ }}",
             "imageWidth": "",
             "linkOpenInNewTab": true,
             "linkTextTemplate": "{{ @ }}",
             "linkTitleTemplate": "{{ @ }}",
             "linkUrlTemplate": "{{ @ }}",
             "name": "camera_id",
             "numberFormat": "0",
             "order": 100000,
             "preserveWhitespace": false,
             "title": "camera_id",
             "type": "integer",
             "useMonospaceFont": false,
             "visible": true
            },
            {
             "alignContent": "left",
             "allowHTML": false,
             "allowSearch": false,
             "booleanValues": [
              "false",
              "true"
             ],
             "displayAs": "string",
             "highlightLinks": false,
             "imageHeight": "",
             "imageTitleTemplate": "{{ @ }}",
             "imageUrlTemplate": "{{ @ }}",
             "imageWidth": "",
             "linkOpenInNewTab": true,
             "linkTextTemplate": "{{ @ }}",
             "linkTitleTemplate": "{{ @ }}",
             "linkUrlTemplate": "{{ @ }}",
             "name": "camera_name",
             "order": 100001,
             "preserveWhitespace": false,
             "title": "camera_name",
             "type": "string",
             "useMonospaceFont": false,
             "visible": true
            },
            {
             "alignContent": "right",
             "allowHTML": false,
             "allowSearch": false,
             "booleanValues": [
              "false",
              "true"
             ],
             "displayAs": "number",
             "highlightLinks": false,
             "imageHeight": "",
             "imageTitleTemplate": "{{ @ }}",
             "imageUrlTemplate": "{{ @ }}",
             "imageWidth": "",
             "linkOpenInNewTab": true,
             "linkTextTemplate": "{{ @ }}",
             "linkTitleTemplate": "{{ @ }}",
             "linkUrlTemplate": "{{ @ }}",
             "name": "rover_id",
             "numberFormat": "0",
             "order": 100002,
             "preserveWhitespace": false,
             "title": "rover_id",
             "type": "integer",
             "useMonospaceFont": false,
             "visible": true
            },
            {
             "alignContent": "right",
             "allowHTML": false,
             "allowSearch": false,
             "booleanValues": [
              "false",
              "true"
             ],
             "displayAs": "number",
             "highlightLinks": false,
             "imageHeight": "",
             "imageTitleTemplate": "{{ @ }}",
             "imageUrlTemplate": "{{ @ }}",
             "imageWidth": "",
             "linkOpenInNewTab": true,
             "linkTextTemplate": "{{ @ }}",
             "linkTitleTemplate": "{{ @ }}",
             "linkUrlTemplate": "{{ @ }}",
             "name": "photo_count",
             "numberFormat": "0",
             "order": 100003,
             "preserveWhitespace": false,
             "title": "photo_count",
             "type": "integer",
             "useMonospaceFont": false,
             "visible": true
            },
            {
             "alignContent": "right",
             "allowHTML": false,
             "allowSearch": false,
             "booleanValues": [
              "false",
              "true"
             ],
             "displayAs": "number",
             "highlightLinks": false,
             "imageHeight": "",
             "imageTitleTemplate": "{{ @ }}",
             "imageUrlTemplate": "{{ @ }}",
             "imageWidth": "",
             "linkOpenInNewTab": true,
             "linkTextTemplate": "{{ @ }}",
             "linkTitleTemplate": "{{ @ }}",
             "linkUrlTemplate": "{{ @ }}",
             "name": "efficiency_score",
             "numberFormat": "0.00",
             "order": 100004,
             "preserveWhitespace": false,
             "title": "efficiency_score",
             "type": "float",
             "useMonospaceFont": false,
             "visible": true
            }
           ],
           "condensed": true,
           "itemsPerPage": 25,
           "paginationSize": "default",
           "version": 2,
           "withRowNumber": false
          }
         }
        ]
       },
       "datasetPreviewNameToCmdIdMap": {},
       "diffDeletes": [],
       "diffInserts": [],
       "displayType": "redashChart",
       "error": null,
       "errorDetails": null,
       "errorSummary": null,
       "errorTraceType": null,
       "finishTime": 0,
       "globalVars": {},
       "guid": "",
       "height": "auto",
       "hideCommandCode": false,
       "hideCommandResult": false,
       "iPythonMetadata": null,
       "inputWidgets": {},
       "isLockedInExamMode": false,
       "latestUser": "a user",
       "latestUserId": null,
       "listResultMetadata": null,
       "metadata": {
        "byteLimit": 2048000,
        "rowLimit": 10000
       },
       "nuid": "951ae29b-a858-4c9a-8254-169c37251813",
       "origId": 0,
       "parentHierarchy": [],
       "pivotAggregation": null,
       "pivotColumns": null,
       "position": 12.0,
       "resultDbfsErrorMessage": null,
       "resultDbfsStatus": "INLINED_IN_TREE",
       "results": null,
       "showCommandTitle": false,
       "startTime": 0,
       "state": "input",
       "streamStates": {},
       "subcommandOptions": {},
       "submitTime": 0,
       "subtype": "tableResultSubCmd.visualization",
       "tableResultIndex": 0,
       "useConsistentColors": false,
       "version": "CommandV1",
       "width": "auto",
       "workflows": null,
       "xColumns": null,
       "yColumns": null
      }
     },
     "output_type": "display_data"
    }
   ],
   "source": [
    "camera_efficiency_df = photos_df.groupBy(\"camera_id\", \"rover_id\").agg(\n",
    "    count(\"photo_id\").alias(\"photo_count\"),\n",
    "    (count(\"photo_id\") / countDistinct(\"sol\")).alias(\"efficiency_score\")\n",
    ").join(cameras_df, photos_df[\"camera_id\"] == cameras_df[\"camera_id\"], how=\"left\") \\\n",
    ".select(\n",
    "    photos_df[\"camera_id\"],\n",
    "    cameras_df[\"camera_name\"].alias(\"camera_name\"),\n",
    "    photos_df[\"rover_id\"],\n",
    "    \"photo_count\",\n",
    "    \"efficiency_score\"\n",
    ").orderBy(col(\"efficiency_score\").desc())\n",
    "\n",
    "camera_efficiency_df.display()\n"
   ]
  },
  {
   "cell_type": "markdown",
   "metadata": {
    "application/vnd.databricks.v1+cell": {
     "cellMetadata": {},
     "inputWidgets": {},
     "nuid": "488af035-8eb4-495f-a6d7-b9c22d2e70ee",
     "showTitle": false,
     "title": ""
    }
   },
   "source": [
    "### Rover Deployment Timeline"
   ]
  },
  {
   "cell_type": "code",
   "execution_count": 0,
   "metadata": {
    "application/vnd.databricks.v1+cell": {
     "cellMetadata": {
      "byteLimit": 2048000,
      "rowLimit": 10000
     },
     "inputWidgets": {},
     "nuid": "c62f5d46-32b7-4171-8f89-50909d77e765",
     "showTitle": false,
     "title": ""
    }
   },
   "outputs": [
    {
     "output_type": "display_data",
     "data": {
      "text/plain": [
       "Databricks visualization. Run in Databricks to view."
      ]
     },
     "metadata": {
      "application/vnd.databricks.v1.subcommand+json": {
       "baseErrorDetails": null,
       "bindings": {},
       "collapsed": false,
       "command": "%python\n__backend_agg_display_orig = display\n__backend_agg_dfs = []\ndef __backend_agg_display_new(df):\n    __backend_agg_df_modules = [\"pandas.core.frame\", \"databricks.koalas.frame\", \"pyspark.sql.dataframe\", \"pyspark.pandas.frame\", \"pyspark.sql.connect.dataframe\"]\n    if (type(df).__module__ in __backend_agg_df_modules and type(df).__name__ == 'DataFrame') or isinstance(df, list):\n        __backend_agg_dfs.append(df)\n\ndisplay = __backend_agg_display_new\n\ndef __backend_agg_user_code_fn():\n    import base64\n    exec(base64.standard_b64decode(\"IyBDYWxjdWxhdGUgcm92ZXIgZGVwbG95bWVudCB0aW1lbGluZQpyb3Zlcl9kZXBsb3ltZW50X2RmID0gbWlzc2lvbl9tYW5pZmVzdF9kZi5zZWxlY3QoCiAgICAicm92ZXJfaWQiLAogICAgInJvdmVyX25hbWUiLAogICAgInJvdmVyX2xhbmRpbmdfZGF0ZSIsCiAgICAicm92ZXJfbGF1bmNoX2RhdGUiLAogICAgInJvdmVyX3N0YXR1cyIsCiAgICBkYXRlZGlmZihjdXJyZW50X2RhdGUoKSwgY29sKCJyb3Zlcl9sYW5kaW5nX2RhdGUiKSkuYWxpYXMoIm1pc3Npb25fZHVyYXRpb24iKQopLm9yZGVyQnkoInJvdmVyX2xhbmRpbmdfZGF0ZSIpCgpyb3Zlcl9kZXBsb3ltZW50X2RmLmRpc3BsYXkoKQ==\").decode())\n\ntry:\n    # run user code\n    __backend_agg_user_code_fn()\n\n    #reset display function\n    display = __backend_agg_display_orig\n\n    if len(__backend_agg_dfs) > 0:\n        # create a temp view\n        if type(__backend_agg_dfs[0]).__module__ == \"databricks.koalas.frame\":\n            # koalas dataframe\n            __backend_agg_dfs[0].to_spark().createOrReplaceTempView(\"DatabricksView9cc20ed\")\n        elif type(__backend_agg_dfs[0]).__module__ == \"pandas.core.frame\" or isinstance(__backend_agg_dfs[0], list):\n            # pandas dataframe\n            spark.createDataFrame(__backend_agg_dfs[0]).createOrReplaceTempView(\"DatabricksView9cc20ed\")\n        else:\n            __backend_agg_dfs[0].createOrReplaceTempView(\"DatabricksView9cc20ed\")\n        #run backend agg\n        display(spark.sql(\"\"\"WITH q AS (select * from DatabricksView9cc20ed) SELECT `rover_name`,SUM(`mission_duration`) `column_1411e5b429`,`rover_name` FROM q GROUP BY `rover_name`\"\"\"))\n    else:\n        displayHTML(\"dataframe no longer exists. If you're using dataframe.display(), use display(dataframe) instead.\")\n\n\nfinally:\n    spark.sql(\"drop view if exists DatabricksView9cc20ed\")\n    display = __backend_agg_display_orig\n    del __backend_agg_display_new\n    del __backend_agg_display_orig\n    del __backend_agg_dfs\n    del __backend_agg_user_code_fn\n\n",
       "commandTitle": "Visualization 1",
       "commandType": "auto",
       "commandVersion": 0,
       "commentThread": [],
       "commentsVisible": false,
       "contentSha256Hex": null,
       "customPlotOptions": {
        "redashChart": [
         {
          "key": "type",
          "value": "CHART"
         },
         {
          "key": "options",
          "value": {
           "alignYAxesAtZero": true,
           "coefficient": 1,
           "columnConfigurationMap": {
            "series": {
             "column": "rover_name",
             "id": "column_1411e5b431"
            },
            "x": {
             "column": "rover_name",
             "id": "column_1411e5b427"
            },
            "y": [
             {
              "column": "mission_duration",
              "id": "column_1411e5b429",
              "transform": "SUM"
             }
            ]
           },
           "dateTimeFormat": "DD/MM/YYYY HH:mm",
           "direction": {
            "type": "counterclockwise"
           },
           "error_y": {
            "type": "data",
            "visible": true
           },
           "globalSeriesType": "column",
           "isAggregationOn": true,
           "legend": {
            "traceorder": "normal"
           },
           "missingValuesAsZero": true,
           "numberFormat": "0,0.[00000]",
           "percentFormat": "0[.]00%",
           "series": {
            "error_y": {
             "type": "data",
             "visible": true
            },
            "stacking": null
           },
           "seriesOptions": {
            "column_1411e5b429": {
             "type": "column",
             "yAxis": 0
            }
           },
           "showDataLabels": false,
           "sizemode": "diameter",
           "sortX": true,
           "sortY": true,
           "swappedAxes": false,
           "textFormat": "",
           "useAggregationsUi": true,
           "valuesOptions": {},
           "version": 2,
           "xAxis": {
            "labels": {
             "enabled": true
            },
            "type": "-"
           },
           "yAxis": [
            {
             "type": "-"
            },
            {
             "opposite": true,
             "type": "-"
            }
           ]
          }
         }
        ]
       },
       "datasetPreviewNameToCmdIdMap": {},
       "diffDeletes": [],
       "diffInserts": [],
       "displayType": "redashChart",
       "error": null,
       "errorDetails": null,
       "errorSummary": null,
       "errorTraceType": null,
       "finishTime": 0,
       "globalVars": {},
       "guid": "",
       "height": "auto",
       "hideCommandCode": false,
       "hideCommandResult": false,
       "iPythonMetadata": null,
       "inputWidgets": {},
       "isLockedInExamMode": false,
       "latestUser": "a user",
       "latestUserId": null,
       "listResultMetadata": null,
       "metadata": {
        "byteLimit": 2048000,
        "rowLimit": 10000
       },
       "nuid": "eaf5e2fa-051e-49ae-935b-cff0d786f4bc",
       "origId": 0,
       "parentHierarchy": [],
       "pivotAggregation": null,
       "pivotColumns": null,
       "position": 14.0,
       "resultDbfsErrorMessage": null,
       "resultDbfsStatus": "INLINED_IN_TREE",
       "results": null,
       "showCommandTitle": false,
       "startTime": 0,
       "state": "input",
       "streamStates": {},
       "subcommandOptions": {
        "queryPlan": {
         "groups": [
          {
           "column": "rover_name",
           "type": "column"
          },
          {
           "column": "rover_name",
           "type": "column"
          }
         ],
         "selects": [
          {
           "column": "rover_name",
           "type": "column"
          },
          {
           "alias": "column_1411e5b429",
           "args": [
            {
             "column": "mission_duration",
             "type": "column"
            }
           ],
           "function": "SUM",
           "type": "function"
          },
          {
           "column": "rover_name",
           "type": "column"
          }
         ]
        }
       },
       "submitTime": 0,
       "subtype": "tableResultSubCmd.visualization",
       "tableResultIndex": 0,
       "useConsistentColors": false,
       "version": "CommandV1",
       "width": "auto",
       "workflows": null,
       "xColumns": null,
       "yColumns": null
      }
     },
     "output_type": "display_data"
    }
   ],
   "source": [
    "# Calculate rover deployment timeline\n",
    "rover_deployment_df = mission_manifest_df.select(\n",
    "    \"rover_id\",\n",
    "    \"rover_name\",\n",
    "    \"rover_landing_date\",\n",
    "    \"rover_launch_date\",\n",
    "    \"rover_status\",\n",
    "    datediff(current_date(), col(\"rover_landing_date\")).alias(\"mission_duration\")\n",
    ").orderBy(\"rover_landing_date\")\n",
    "\n",
    "rover_deployment_df.display()"
   ]
  },
  {
   "cell_type": "markdown",
   "metadata": {
    "application/vnd.databricks.v1+cell": {
     "cellMetadata": {},
     "inputWidgets": {},
     "nuid": "7f0edb73-7cf3-4476-8180-ac45c27c73b2",
     "showTitle": false,
     "title": ""
    }
   },
   "source": [
    "### Photo Distribution by Camera and Rover\n",
    "\n"
   ]
  },
  {
   "cell_type": "code",
   "execution_count": 0,
   "metadata": {
    "application/vnd.databricks.v1+cell": {
     "cellMetadata": {
      "byteLimit": 2048000,
      "rowLimit": 10000
     },
     "inputWidgets": {},
     "nuid": "ba863cb8-46ff-4d19-931a-619168a14d13",
     "showTitle": false,
     "title": ""
    }
   },
   "outputs": [],
   "source": [
    "photo_distribution_df = photos_df.groupBy(\"rover_id\", \"camera_id\").agg(\n",
    "    count(\"photo_id\").alias(\"photo_count\")\n",
    ").join(\n",
    "    cameras_df, \n",
    "    photos_df[\"camera_id\"] == cameras_df[\"camera_id\"], \n",
    "    how=\"left\"\n",
    ").select(\n",
    "    photos_df[\"rover_id\"],\n",
    "    photos_df[\"camera_id\"],\n",
    "    cameras_df[\"camera_name\"],\n",
    "    \"photo_count\"\n",
    ").orderBy(col(\"photo_count\").desc())\n",
    "\n",
    "photo_distribution_df.display()"
   ]
  },
  {
   "cell_type": "code",
   "execution_count": 0,
   "metadata": {
    "application/vnd.databricks.v1+cell": {
     "cellMetadata": {
      "byteLimit": 2048000,
      "rowLimit": 10000
     },
     "inputWidgets": {},
     "nuid": "ce2466fd-1983-42dd-81ac-98357659e009",
     "showTitle": false,
     "title": ""
    }
   },
   "outputs": [],
   "source": [
    "#Write the specific tables to the delta lake.\n",
    "photos_summary_df.write.format(\"delta\").mode(\"overwrite\").saveAsTable(\"nasa_rover_gold.photos_summary\")\n",
    "rover_deployment_df.write.format(\"delta\").mode(\"overwrite\").saveAsTable(\"nasa_rover_gold.rover_deployment\")\n",
    "rover_activity_df.write.format(\"delta\").mode(\"overwrite\").saveAsTable(\"nasa_rover_gold.rover_activity\")\n",
    "photo_distribution_df.write.format(\"delta\").mode(\"overwrite\").saveAsTable(\"nasa_rover_gold.photo_distribution\")\n",
    "camera_efficiency_df.write.format(\"delta\").mode(\"overwrite\").saveAsTable(\"nasa_rover_gold.camera_efficiency\")\n",
    "camera_usage_df.write.format(\"delta\").mode(\"overwrite\").saveAsTable(\"nasa_rover_gold.camera_usage\")"
   ]
  }
 ],
 "metadata": {
  "application/vnd.databricks.v1+notebook": {
   "dashboards": [
    {
     "elements": [
      {
       "dashboardResultIndex": null,
       "elementNUID": "eaf5e2fa-051e-49ae-935b-cff0d786f4bc",
       "elementType": "command",
       "guid": "97e45f4b-82c8-4e1b-9b85-20900d77538e",
       "options": null,
       "position": {
        "height": 7,
        "width": 12,
        "x": 12,
        "y": 12,
        "z": null
       },
       "resultIndex": null
      },
      {
       "dashboardResultIndex": null,
       "elementNUID": "a86d32d9-89f5-46e7-b850-647b1020c72a",
       "elementType": "command",
       "guid": "ae5e0d8f-82f6-45fb-bf47-72bb7e800f05",
       "options": null,
       "position": {
        "height": 6,
        "width": 12,
        "x": 12,
        "y": 6,
        "z": null
       },
       "resultIndex": null
      },
      {
       "dashboardResultIndex": null,
       "elementNUID": "5628fab2-eeab-4611-ae22-0e5c4278f1ef",
       "elementType": "command",
       "guid": "c53a11f2-00db-407c-8d19-f1f4ce91ea8c",
       "options": null,
       "position": {
        "height": 19,
        "width": 12,
        "x": 0,
        "y": 0,
        "z": null
       },
       "resultIndex": null
      },
      {
       "dashboardResultIndex": null,
       "elementNUID": "951ae29b-a858-4c9a-8254-169c37251813",
       "elementType": "command",
       "guid": "f46c4722-ffbf-4951-a37b-049d86bf7f3f",
       "options": null,
       "position": {
        "height": 6,
        "width": 12,
        "x": 12,
        "y": 0,
        "z": null
       },
       "resultIndex": null
      }
     ],
     "globalVars": {},
     "guid": "",
     "layoutOption": {
      "grid": true,
      "stack": true
     },
     "nuid": "7fbac4d9-fe71-4120-aa71-6fe4990dab1c",
     "origId": 1195004339474341,
     "title": "Rover Dashboard",
     "version": "DashboardViewV1",
     "width": 1024
    }
   ],
   "environmentMetadata": null,
   "language": "python",
   "notebookMetadata": {
    "pythonIndentUnit": 4
   },
   "notebookName": "07 Create Stats Tables",
   "widgets": {}
  }
 },
 "nbformat": 4,
 "nbformat_minor": 0
}
