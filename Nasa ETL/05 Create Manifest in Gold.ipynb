{
 "cells": [
  {
   "cell_type": "code",
   "execution_count": 0,
   "metadata": {
    "application/vnd.databricks.v1+cell": {
     "cellMetadata": {},
     "inputWidgets": {},
     "nuid": "3a887f92-3583-4b57-8fc8-b2e8c35617ad",
     "showTitle": false,
     "title": ""
    }
   },
   "outputs": [],
   "source": [
    "from pyspark.sql.functions import explode, col, lit"
   ]
  },
  {
   "cell_type": "code",
   "execution_count": 0,
   "metadata": {
    "application/vnd.databricks.v1+cell": {
     "cellMetadata": {},
     "inputWidgets": {},
     "nuid": "985fd56e-ba34-440c-a7d1-9227a7dee1ab",
     "showTitle": false,
     "title": ""
    }
   },
   "outputs": [],
   "source": [
    "%sql\n",
    "CREATE DATABASE IF NOT EXISTS nasa_rover_gold;\n"
   ]
  },
  {
   "cell_type": "code",
   "execution_count": 0,
   "metadata": {
    "application/vnd.databricks.v1+cell": {
     "cellMetadata": {},
     "inputWidgets": {},
     "nuid": "7e871655-291f-4fb6-9573-5dc398310006",
     "showTitle": false,
     "title": ""
    }
   },
   "outputs": [],
   "source": [
    "# Retrieves the data in silver\n",
    "silver_df = spark.table(\"nasa_rover_silver.silver_mars_rover\")\n"
   ]
  },
  {
   "cell_type": "code",
   "execution_count": 0,
   "metadata": {
    "application/vnd.databricks.v1+cell": {
     "cellMetadata": {},
     "inputWidgets": {},
     "nuid": "484060b4-491e-4e8b-a83f-70f095129e52",
     "showTitle": false,
     "title": ""
    }
   },
   "outputs": [],
   "source": [
    "# Flattens and creates the mission manifest from the rover.\n",
    "\n",
    "manifest_exploded = silver_df.withColumn(\"cameras\", explode(silver_df[\"rover.cameras\"]))\n",
    "\n",
    "mission_manifest_final_df = manifest_exploded.select(\n",
    "    manifest_exploded[\"rover.id\"].alias(\"rover_id\"),\n",
    "    manifest_exploded[\"rover.landing_date\"].alias(\"rover_landing_date\"),\n",
    "    manifest_exploded[\"rover.launch_date\"].alias(\"rover_launch_date\"),\n",
    "    manifest_exploded[\"rover.max_date\"].alias(\"rover_max_date\"),\n",
    "    manifest_exploded[\"rover.max_sol\"].alias(\"rover_max_sol\"),\n",
    "    manifest_exploded[\"rover.name\"].alias(\"rover_name\"),\n",
    "    manifest_exploded[\"rover.status\"].alias(\"rover_status\"),\n",
    "    manifest_exploded[\"rover.total_photos\"].alias(\"rover_total_photos\")\n",
    ").distinct()\n",
    "\n",
    "mission_manifest_final_df.show()"
   ]
  },
  {
   "cell_type": "code",
   "execution_count": 0,
   "metadata": {
    "application/vnd.databricks.v1+cell": {
     "cellMetadata": {},
     "inputWidgets": {},
     "nuid": "71b9959e-066f-4744-a13e-dc11b0c1beb8",
     "showTitle": false,
     "title": ""
    }
   },
   "outputs": [],
   "source": [
    "mission_manifest_final_df.write.format(\"delta\").mode(\"overwrite\").saveAsTable(\"nasa_rover_gold.mission_manifest\")"
   ]
  }
 ],
 "metadata": {
  "application/vnd.databricks.v1+notebook": {
   "dashboards": [],
   "environmentMetadata": null,
   "language": "python",
   "notebookMetadata": {
    "pythonIndentUnit": 4
   },
   "notebookName": "05 Create Manifest in Gold",
   "widgets": {}
  }
 },
 "nbformat": 4,
 "nbformat_minor": 0
}
