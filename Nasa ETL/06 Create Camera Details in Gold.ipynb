{
 "cells": [
  {
   "cell_type": "code",
   "execution_count": 0,
   "metadata": {
    "application/vnd.databricks.v1+cell": {
     "cellMetadata": {},
     "inputWidgets": {},
     "nuid": "3a887f92-3583-4b57-8fc8-b2e8c35617ad",
     "showTitle": false,
     "title": ""
    }
   },
   "outputs": [],
   "source": [
    "from pyspark.sql.functions import explode, col, lit"
   ]
  },
  {
   "cell_type": "code",
   "execution_count": 0,
   "metadata": {
    "application/vnd.databricks.v1+cell": {
     "cellMetadata": {},
     "inputWidgets": {},
     "nuid": "985fd56e-ba34-440c-a7d1-9227a7dee1ab",
     "showTitle": false,
     "title": ""
    }
   },
   "outputs": [],
   "source": [
    "%sql\n",
    "CREATE DATABASE IF NOT EXISTS nasa_rover_gold;\n"
   ]
  },
  {
   "cell_type": "code",
   "execution_count": 0,
   "metadata": {
    "application/vnd.databricks.v1+cell": {
     "cellMetadata": {},
     "inputWidgets": {},
     "nuid": "7e871655-291f-4fb6-9573-5dc398310006",
     "showTitle": false,
     "title": ""
    }
   },
   "outputs": [],
   "source": [
    "# Retrieves the data in silver\n",
    "silver_df = spark.table(\"nasa_rover_silver.silver_mars_rover\")\n"
   ]
  },
  {
   "cell_type": "code",
   "execution_count": 0,
   "metadata": {
    "application/vnd.databricks.v1+cell": {
     "cellMetadata": {},
     "inputWidgets": {},
     "nuid": "093a1a63-4679-4374-8c2f-71d3971a74ad",
     "showTitle": false,
     "title": ""
    }
   },
   "outputs": [],
   "source": [
    "# Creates a dataframe for the photos table\n",
    "\n",
    "photos_df = (silver_df.select(\n",
    "    col(\"photo_id\"),\n",
    "    col(\"sol\"),\n",
    "    col(\"earth_date\"),\n",
    "    col(\"img_src\"),\n",
    "    col(\"camera.id\").alias(\"camera_id\"),\n",
    "    col(\"rover.id\").alias(\"rover_id\")\n",
    ")\n",
    ")\n",
    "\n",
    "photos_df.show()"
   ]
  },
  {
   "cell_type": "code",
   "execution_count": 0,
   "metadata": {
    "application/vnd.databricks.v1+cell": {
     "cellMetadata": {},
     "inputWidgets": {},
     "nuid": "0351b66e-8401-40e0-afeb-2e434abf1e75",
     "showTitle": false,
     "title": ""
    }
   },
   "outputs": [],
   "source": [
    "# Creates a data from for rover.cameras\n",
    "# This would be a list of all cameras on a rover.\n",
    "rover_cameras_df = silver_df.select(\n",
    "    col(\"rover.id\").alias(\"rover_id\"),\n",
    "    explode(col(\"rover.cameras\")).alias(\"camera\")\n",
    ").select(\n",
    "    col(\"rover_id\"),\n",
    "    col(\"camera.full_name\").alias(\"camera_full_name\"),\n",
    "    col(\"camera.name\").alias(\"camera_name\")\n",
    ").distinct()\n",
    "\n"
   ]
  },
  {
   "cell_type": "code",
   "execution_count": 0,
   "metadata": {
    "application/vnd.databricks.v1+cell": {
     "cellMetadata": {},
     "inputWidgets": {},
     "nuid": "b9473065-7e6c-46df-a21d-2a44814baf1d",
     "showTitle": false,
     "title": ""
    }
   },
   "outputs": [],
   "source": [
    "# Creates a data frame for cameras\n",
    "# that represents all the cameras that have taken photos\n",
    "photo_cameras_df = silver_df.select(\n",
    "    col(\"camera.full_name\").alias(\"photo_camera_full_name\"),\n",
    "    col(\"camera.name\").alias(\"photo_camera_name\"),\n",
    "    col(\"camera.id\").alias(\"photo_camera_id\"),\n",
    "    col(\"camera.rover_id\").alias(\"photo_rover_id\")\n",
    ").distinct()\n"
   ]
  },
  {
   "cell_type": "code",
   "execution_count": 0,
   "metadata": {
    "application/vnd.databricks.v1+cell": {
     "cellMetadata": {},
     "inputWidgets": {},
     "nuid": "a490234d-a77c-40e0-ada6-7ceaf60e5971",
     "showTitle": false,
     "title": ""
    }
   },
   "outputs": [],
   "source": [
    "# Create the camera details table by joining the two previous dataframes.\n",
    "# This table is a list of all cameras for each rover, \n",
    "# including the cameras that did not take photos.\n",
    "# It diplays the rover_id, camera name, camera full name, and the camera_id.\n",
    "\n",
    "camera_details_df = rover_cameras_df.join(\n",
    "    photo_cameras_df,\n",
    "    (rover_cameras_df.camera_name == photo_cameras_df.photo_camera_name) & \n",
    "    (rover_cameras_df.rover_id == photo_cameras_df.photo_rover_id),\n",
    "    how=\"left\"\n",
    ").select(\n",
    "    col(\"rover_id\"),\n",
    "    col(\"camera_name\"),\n",
    "    col(\"camera_full_name\").alias(\"photo_camera_full_name\"),\n",
    "    col(\"photo_camera_id\").alias(\"camera_id\")\n",
    ").distinct()\n",
    "\n",
    "camera_details_df.show()"
   ]
  },
  {
   "cell_type": "code",
   "execution_count": 0,
   "metadata": {
    "application/vnd.databricks.v1+cell": {
     "cellMetadata": {},
     "inputWidgets": {},
     "nuid": "484060b4-491e-4e8b-a83f-70f095129e52",
     "showTitle": false,
     "title": ""
    }
   },
   "outputs": [],
   "source": [
    "# Flattens and creates the mission manifest from the rover.\n",
    "\n",
    "manifest_exploded = silver_df.withColumn(\"cameras\", explode(silver_df[\"rover.cameras\"]))\n",
    "\n",
    "mission_manifest_final_df = manifest_exploded.select(\n",
    "    manifest_exploded[\"rover.id\"].alias(\"rover_id\"),\n",
    "    manifest_exploded[\"rover.landing_date\"].alias(\"rover_landing_date\"),\n",
    "    manifest_exploded[\"rover.launch_date\"].alias(\"rover_launch_date\"),\n",
    "    manifest_exploded[\"rover.max_date\"].alias(\"rover_max_date\"),\n",
    "    manifest_exploded[\"rover.max_sol\"].alias(\"rover_max_sol\"),\n",
    "    manifest_exploded[\"rover.name\"].alias(\"rover_name\"),\n",
    "    manifest_exploded[\"rover.status\"].alias(\"rover_status\"),\n",
    "    manifest_exploded[\"rover.total_photos\"].alias(\"rover_total_photos\")\n",
    ").distinct()\n",
    "\n",
    "mission_manifest_final_df.show()"
   ]
  },
  {
   "cell_type": "code",
   "execution_count": 0,
   "metadata": {
    "application/vnd.databricks.v1+cell": {
     "cellMetadata": {},
     "inputWidgets": {},
     "nuid": "a5ca60d2-abdc-4958-8b9b-0cb508a8f43c",
     "showTitle": false,
     "title": ""
    }
   },
   "outputs": [],
   "source": [
    "camera_details_df.write.format(\"delta\").mode(\"overwrite\").saveAsTable(\"nasa_rover_gold.camera\")"
   ]
  }
 ],
 "metadata": {
  "application/vnd.databricks.v1+notebook": {
   "dashboards": [],
   "environmentMetadata": null,
   "language": "python",
   "notebookMetadata": {
    "pythonIndentUnit": 4
   },
   "notebookName": "06 Create Camera Details in Gold",
   "widgets": {}
  }
 },
 "nbformat": 4,
 "nbformat_minor": 0
}
