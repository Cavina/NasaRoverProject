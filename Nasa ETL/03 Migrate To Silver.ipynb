{
 "cells": [
  {
   "cell_type": "code",
   "execution_count": 0,
   "metadata": {
    "application/vnd.databricks.v1+cell": {
     "cellMetadata": {},
     "inputWidgets": {},
     "nuid": "189d1fb1-f7e6-4f22-b650-b2fd7c024f30",
     "showTitle": false,
     "title": ""
    }
   },
   "outputs": [],
   "source": [
    "dbutils.widgets.removeAll()"
   ]
  },
  {
   "cell_type": "code",
   "execution_count": 0,
   "metadata": {
    "application/vnd.databricks.v1+cell": {
     "cellMetadata": {},
     "inputWidgets": {},
     "nuid": "fb33e1e8-d999-43ec-85a8-b9e5d7ad6d82",
     "showTitle": false,
     "title": ""
    }
   },
   "outputs": [],
   "source": [
    "from pyspark.sql.functions import explode, col, lit\n",
    "from pyspark.sql.types import StructType, StructField, StringType, IntegerType, ArrayType, StructType, StructField, LongType, FloatType, DoubleType, DateType"
   ]
  },
  {
   "cell_type": "code",
   "execution_count": 0,
   "metadata": {
    "application/vnd.databricks.v1+cell": {
     "cellMetadata": {},
     "inputWidgets": {},
     "nuid": "76da8b3c-939d-4e74-9f27-c0b904bfdfb0",
     "showTitle": false,
     "title": ""
    }
   },
   "outputs": [],
   "source": [
    "%sql\n",
    "CREATE DATABASE IF NOT EXISTS nasa_rover_silver;"
   ]
  },
  {
   "cell_type": "code",
   "execution_count": 0,
   "metadata": {
    "application/vnd.databricks.v1+cell": {
     "cellMetadata": {},
     "inputWidgets": {},
     "nuid": "be346456-5c82-4a4f-9dcc-0afe279d76c0",
     "showTitle": false,
     "title": ""
    }
   },
   "outputs": [],
   "source": [
    "bronze_base_dir = dbutils.widgets.get('bronze_base_dir')\n",
    "rovers = [\"curiosity\", \"opportunity\", \"spirit\"]"
   ]
  },
  {
   "cell_type": "code",
   "execution_count": 0,
   "metadata": {
    "application/vnd.databricks.v1+cell": {
     "cellMetadata": {},
     "inputWidgets": {},
     "nuid": "3b54f476-5781-41f7-a83d-f5ac73c92d52",
     "showTitle": false,
     "title": ""
    }
   },
   "outputs": [],
   "source": [
    "'''\n",
    "Reads data from S3 location and returns a \n",
    "dictionary of dataframes, where the keys\n",
    "are the rover names and the values are the dataframes.\n",
    "\n",
    "'''\n",
    "\n",
    "def read_rover_data_from_s3(rovers):\n",
    "    rover_data = {}\n",
    "    for rover in rovers:\n",
    "        try:\n",
    "            print(f\"Reading data from {rover}\")\n",
    "            df = spark.read.json(f\"{bronze_base_dir}/{rover}_data\")\n",
    "            df_with_rover_name = df.withColumn(\"rover_name\", lit(rover))\n",
    "            rover_data[rover] = df_with_rover_name\n",
    "        except Exception as e:\n",
    "            print(f\"Error reading data from {rover}\")\n",
    "    return rover_data       \n",
    "    "
   ]
  },
  {
   "cell_type": "code",
   "execution_count": 0,
   "metadata": {
    "application/vnd.databricks.v1+cell": {
     "cellMetadata": {},
     "inputWidgets": {},
     "nuid": "827754ba-ff44-4b97-ac89-12d1347360bf",
     "showTitle": false,
     "title": ""
    }
   },
   "outputs": [],
   "source": [
    "'''\n",
    "Unions the disjoint rover dataframes into a single dataframe.\n",
    "'''\n",
    "\n",
    "def union_rover_data(rover_data_dict):\n",
    "    dataframes = list(rover_data_dict.values())\n",
    "    unified_df = dataframes[0]\n",
    "    for d in dataframes[1:]:\n",
    "        unified_df = unified_df.union(d)\n",
    "\n",
    "    return unified_df"
   ]
  },
  {
   "cell_type": "code",
   "execution_count": 0,
   "metadata": {
    "application/vnd.databricks.v1+cell": {
     "cellMetadata": {},
     "inputWidgets": {},
     "nuid": "899855bd-aa73-4965-b0a3-47b06b9473a5",
     "showTitle": false,
     "title": ""
    }
   },
   "outputs": [],
   "source": [
    "rover_data_dict = read_rover_data_from_s3(rovers)"
   ]
  },
  {
   "cell_type": "code",
   "execution_count": 0,
   "metadata": {
    "application/vnd.databricks.v1+cell": {
     "cellMetadata": {},
     "inputWidgets": {},
     "nuid": "0b0c2475-2133-478a-83fd-171f53cf6483",
     "showTitle": false,
     "title": ""
    }
   },
   "outputs": [],
   "source": [
    "df_union = union_rover_data(rover_data_dict)"
   ]
  },
  {
   "cell_type": "code",
   "execution_count": 0,
   "metadata": {
    "application/vnd.databricks.v1+cell": {
     "cellMetadata": {},
     "inputWidgets": {},
     "nuid": "451ff6e8-6820-45d2-9f10-1dfa27c4b6d3",
     "showTitle": false,
     "title": ""
    }
   },
   "outputs": [],
   "source": [
    "\n",
    "df_final = df_union.select(\n",
    "    col(\"id\").alias(\"photo_id\"),\n",
    "    \"sol\",\n",
    "    \"earth_date\",\n",
    "    \"camera\",\n",
    "    \"img_src\",\n",
    "    \"rover\",\n",
    "    \"rover_name\"\n",
    ")\n",
    "\n",
    "df_final.show()"
   ]
  },
  {
   "cell_type": "code",
   "execution_count": 0,
   "metadata": {
    "application/vnd.databricks.v1+cell": {
     "cellMetadata": {},
     "inputWidgets": {},
     "nuid": "0d7682db-a6c2-4888-9cc1-6838ff388fb8",
     "showTitle": false,
     "title": ""
    }
   },
   "outputs": [],
   "source": [
    "# This used to be save to the s3 bucket directly.\n",
    "# Using saveAsTable saves it in the metastore.\n",
    "\n",
    "df_final.write.format(\"delta\").mode(\"overwrite\").saveAsTable(\"nasa_rover_silver.silver_mars_rover\")"
   ]
  }
 ],
 "metadata": {
  "application/vnd.databricks.v1+notebook": {
   "dashboards": [],
   "environmentMetadata": null,
   "language": "python",
   "notebookMetadata": {
    "pythonIndentUnit": 4
   },
   "notebookName": "03 Migrate To Silver",
   "widgets": {}
  }
 },
 "nbformat": 4,
 "nbformat_minor": 0
}
