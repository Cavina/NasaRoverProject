{
 "cells": [
  {
   "cell_type": "code",
   "execution_count": 0,
   "metadata": {
    "application/vnd.databricks.v1+cell": {
     "cellMetadata": {},
     "inputWidgets": {},
     "nuid": "3a887f92-3583-4b57-8fc8-b2e8c35617ad",
     "showTitle": false,
     "title": ""
    }
   },
   "outputs": [],
   "source": [
    "from pyspark.sql.functions import explode, col, lit"
   ]
  },
  {
   "cell_type": "code",
   "execution_count": 0,
   "metadata": {
    "application/vnd.databricks.v1+cell": {
     "cellMetadata": {},
     "inputWidgets": {},
     "nuid": "985fd56e-ba34-440c-a7d1-9227a7dee1ab",
     "showTitle": false,
     "title": ""
    }
   },
   "outputs": [],
   "source": [
    "%sql\n",
    "CREATE DATABASE IF NOT EXISTS nasa_rover_gold;\n"
   ]
  },
  {
   "cell_type": "code",
   "execution_count": 0,
   "metadata": {
    "application/vnd.databricks.v1+cell": {
     "cellMetadata": {},
     "inputWidgets": {},
     "nuid": "7e871655-291f-4fb6-9573-5dc398310006",
     "showTitle": false,
     "title": ""
    }
   },
   "outputs": [],
   "source": [
    "# Retrieves the data in silver\n",
    "silver_df = spark.table(\"nasa_rover_silver.silver_mars_rover\")\n"
   ]
  },
  {
   "cell_type": "code",
   "execution_count": 0,
   "metadata": {
    "application/vnd.databricks.v1+cell": {
     "cellMetadata": {},
     "inputWidgets": {},
     "nuid": "093a1a63-4679-4374-8c2f-71d3971a74ad",
     "showTitle": false,
     "title": ""
    }
   },
   "outputs": [],
   "source": [
    "# Creates a dataframe for the photos table\n",
    "\n",
    "photos_df = (silver_df.select(\n",
    "    col(\"photo_id\"),\n",
    "    col(\"sol\"),\n",
    "    col(\"earth_date\"),\n",
    "    col(\"img_src\"),\n",
    "    col(\"camera.id\").alias(\"camera_id\"),\n",
    "    col(\"rover.id\").alias(\"rover_id\")\n",
    ")\n",
    ")\n",
    "\n",
    "photos_df.show()"
   ]
  },
  {
   "cell_type": "code",
   "execution_count": 0,
   "metadata": {
    "application/vnd.databricks.v1+cell": {
     "cellMetadata": {},
     "inputWidgets": {},
     "nuid": "457529d5-be00-44c5-84ed-4567ac29d4f0",
     "showTitle": false,
     "title": ""
    }
   },
   "outputs": [],
   "source": [
    "#Write the specific tables to the delta lake.\n",
    "photos_df.write.format(\"delta\").mode(\"overwrite\").saveAsTable(\"nasa_rover_gold.photos\")"
   ]
  }
 ],
 "metadata": {
  "application/vnd.databricks.v1+notebook": {
   "dashboards": [],
   "environmentMetadata": null,
   "language": "python",
   "notebookMetadata": {
    "pythonIndentUnit": 4
   },
   "notebookName": "04 Create Photos in Gold",
   "widgets": {}
  }
 },
 "nbformat": 4,
 "nbformat_minor": 0
}
