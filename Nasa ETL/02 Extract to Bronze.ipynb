{
 "cells": [
  {
   "cell_type": "code",
   "execution_count": 0,
   "metadata": {
    "application/vnd.databricks.v1+cell": {
     "cellMetadata": {},
     "inputWidgets": {},
     "nuid": "ed6d22f5-337b-47c5-98da-a6a2f7cdeafd",
     "showTitle": false,
     "title": ""
    }
   },
   "outputs": [],
   "source": [
    "dbutils.widgets.removeAll()"
   ]
  },
  {
   "cell_type": "code",
   "execution_count": 0,
   "metadata": {
    "application/vnd.databricks.v1+cell": {
     "cellMetadata": {},
     "inputWidgets": {},
     "nuid": "8c8b22e4-9e24-4fe7-8e98-d83d5dbcba3a",
     "showTitle": false,
     "title": ""
    }
   },
   "outputs": [],
   "source": [
    "import requests\n",
    "import json\n"
   ]
  },
  {
   "cell_type": "code",
   "execution_count": 0,
   "metadata": {
    "application/vnd.databricks.v1+cell": {
     "cellMetadata": {},
     "inputWidgets": {},
     "nuid": "e8a0ec73-1548-4d67-a7ea-46cb27e432b4",
     "showTitle": false,
     "title": ""
    }
   },
   "outputs": [],
   "source": [
    "'''\n",
    "Fetches the rover data for the given rover and earth date.\n",
    "Accepts the rover, earth_date, and the api_key as parameters.\n",
    "Returns \n",
    "'''\n",
    "\n",
    "def fetch_rover_data(rover, earth_date, api_key):\n",
    "    params = {\"earth_date\": earth_date, \"api_key\": api_key}\n",
    "    url = f\"https://api.nasa.gov/mars-photos/api/v1/rovers/{rover}/photos?\"\n",
    "    response = requests.get(url, params = params)\n",
    "    data = response.json()\n",
    "    # If no photos are found, return an empty list.\n",
    "    # Otherwise this is flattening the first level for us in the JSON.\n",
    "    photos = data.get('photos', [])\n",
    "\n",
    "    if not photos:\n",
    "        raise Exception(f\"No photos found for {rover} on {earth_date}\")\n",
    "    else:\n",
    "        return photos"
   ]
  },
  {
   "cell_type": "code",
   "execution_count": 0,
   "metadata": {
    "application/vnd.databricks.v1+cell": {
     "cellMetadata": {},
     "inputWidgets": {},
     "nuid": "7b49e298-9659-4947-93ee-b2e5002aa8a9",
     "showTitle": false,
     "title": ""
    }
   },
   "outputs": [],
   "source": [
    "bronze_base_dir = dbutils.widgets.get('bronze_base_dir')\n",
    "earth_date = dbutils.widgets.get('earth_date')\n",
    "api_key = dbutils.widgets.get('api_key')"
   ]
  },
  {
   "cell_type": "code",
   "execution_count": 0,
   "metadata": {
    "application/vnd.databricks.v1+cell": {
     "cellMetadata": {},
     "inputWidgets": {},
     "nuid": "b651fb69-a3e4-44d8-a203-d238a0324799",
     "showTitle": false,
     "title": ""
    }
   },
   "outputs": [],
   "source": [
    "'''\n",
    "For every rover in the list, fetch the data for the given earth date.\n",
    "Write the data to the bronze directory.\n",
    "'''\n",
    "\n",
    "rovers = [\"curiosity\", \"opportunity\", \"spirit\"]\n",
    "\n",
    "for rover in rovers:\n",
    "    try:\n",
    "        photos = fetch_rover_data(rover, earth_date, api_key)\n",
    "        df = spark.read.json(spark.sparkContext.parallelize([photos]))\n",
    "        df.write.mode(\"overwrite\").json(f\"{bronze_base_dir}/{rover}_data\")\n",
    "    except Exception as e:\n",
    "        print(f\"Exception: {e}\")\n"
   ]
  }
 ],
 "metadata": {
  "application/vnd.databricks.v1+notebook": {
   "dashboards": [],
   "environmentMetadata": null,
   "language": "python",
   "notebookMetadata": {
    "pythonIndentUnit": 4
   },
   "notebookName": "02 Extract to Bronze",
   "widgets": {}
  }
 },
 "nbformat": 4,
 "nbformat_minor": 0
}
