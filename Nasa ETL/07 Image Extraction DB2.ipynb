{
 "cells": [
  {
   "cell_type": "code",
   "execution_count": 0,
   "metadata": {
    "application/vnd.databricks.v1+cell": {
     "cellMetadata": {
      "byteLimit": 2048000,
      "rowLimit": 10000
     },
     "inputWidgets": {},
     "nuid": "8eecbf75-1959-4951-a847-88467477e49e",
     "showTitle": false,
     "title": ""
    }
   },
   "outputs": [],
   "source": [
    "%pip install opencv-python"
   ]
  },
  {
   "cell_type": "code",
   "execution_count": 0,
   "metadata": {
    "application/vnd.databricks.v1+cell": {
     "cellMetadata": {
      "byteLimit": 2048000,
      "rowLimit": 10000
     },
     "inputWidgets": {},
     "nuid": "e17d2266-c170-48d7-8f04-2788517add70",
     "showTitle": false,
     "title": ""
    }
   },
   "outputs": [],
   "source": [
    "from pyspark.sql.types import StructType, BinaryType, StructField\n",
    "import requests\n",
    "import cv2\n",
    "import numpy as np\n",
    "from PIL import Image\n",
    "from io import BytesIO\n",
    "import matplotlib.pyplot as plt\n",
    "from pyspark.sql.window import Window\n",
    "from pyspark.sql.functions import length, lit, col, row_number"
   ]
  },
  {
   "cell_type": "code",
   "execution_count": 0,
   "metadata": {
    "application/vnd.databricks.v1+cell": {
     "cellMetadata": {
      "byteLimit": 2048000,
      "rowLimit": 10000
     },
     "inputWidgets": {},
     "nuid": "d91f7cbc-ea03-430e-b198-66921ad8673f",
     "showTitle": false,
     "title": ""
    }
   },
   "outputs": [],
   "source": [
    "photos_df = spark.table(\"nasa_rover_gold.photos\")"
   ]
  },
  {
   "cell_type": "code",
   "execution_count": 0,
   "metadata": {
    "application/vnd.databricks.v1+cell": {
     "cellMetadata": {
      "byteLimit": 2048000,
      "rowLimit": 10000
     },
     "inputWidgets": {},
     "nuid": "116a0588-12f8-43b8-a6fb-e33d8ae0ed06",
     "showTitle": false,
     "title": ""
    }
   },
   "outputs": [],
   "source": [
    "def fetch_image(url):\n",
    "    response = requests.get(url)\n",
    "    if response.status_code == 200:\n",
    "        return response.content\n",
    "    else:\n",
    "        raise Exception(f\"Failed to fetch image from {url}\")"
   ]
  },
  {
   "cell_type": "code",
   "execution_count": 0,
   "metadata": {
    "application/vnd.databricks.v1+cell": {
     "cellMetadata": {
      "byteLimit": 2048000,
      "rowLimit": 10000
     },
     "inputWidgets": {},
     "nuid": "d1d3ace5-2d84-46be-b24e-d0e1ec7c1668",
     "showTitle": false,
     "title": ""
    }
   },
   "outputs": [],
   "source": [
    "def display_image(image_data):\n",
    "    # Convert image data to a numpy array\n",
    "    image_np = np.frombuffer(image_data, np.uint8)\n",
    "    # Decode the numpy array into an image\n",
    "    image = cv2.imdecode(image_np, cv2.IMREAD_COLOR)\n",
    "    # Convert BGR to RGB for display with matplotlib\n",
    "    image_rgb = cv2.cvtColor(image, cv2.COLOR_BGR2RGB)\n",
    "    # Use matplotlib to display the image\n",
    "    plt.imshow(image_rgb)\n",
    "    plt.axis('off')  # Hide axis\n",
    "    plt.show()"
   ]
  },
  {
   "cell_type": "code",
   "execution_count": 0,
   "metadata": {
    "application/vnd.databricks.v1+cell": {
     "cellMetadata": {
      "byteLimit": 2048000,
      "rowLimit": 10000
     },
     "inputWidgets": {},
     "nuid": "793cdebd-21e3-455d-9d46-a79d2af99f48",
     "showTitle": false,
     "title": ""
    }
   },
   "outputs": [],
   "source": [
    "filtered_photo_df = photos_df.filter(col(\"photo_id\") == 592224)\n"
   ]
  },
  {
   "cell_type": "code",
   "execution_count": 0,
   "metadata": {
    "application/vnd.databricks.v1+cell": {
     "cellMetadata": {
      "byteLimit": 2048000,
      "rowLimit": 10000
     },
     "inputWidgets": {},
     "nuid": "a359ac4b-601a-4c84-b267-a66ea0f5f4e4",
     "showTitle": false,
     "title": ""
    }
   },
   "outputs": [],
   "source": [
    "img_url = filtered_photo_df.select(\"img_src\").collect()[0][0]"
   ]
  },
  {
   "cell_type": "code",
   "execution_count": 0,
   "metadata": {
    "application/vnd.databricks.v1+cell": {
     "cellMetadata": {
      "byteLimit": 2048000,
      "rowLimit": 10000
     },
     "inputWidgets": {},
     "nuid": "d76fc6ba-4d47-4456-914f-6c1b55c7f33b",
     "showTitle": false,
     "title": ""
    }
   },
   "outputs": [],
   "source": [
    "print(img_url)"
   ]
  },
  {
   "cell_type": "code",
   "execution_count": 0,
   "metadata": {
    "application/vnd.databricks.v1+cell": {
     "cellMetadata": {
      "byteLimit": 2048000,
      "rowLimit": 10000
     },
     "inputWidgets": {},
     "nuid": "f51c0e32-1e58-494a-96d6-310729d9ed6a",
     "showTitle": false,
     "title": ""
    }
   },
   "outputs": [],
   "source": [
    "image_data = fetch_image(img_url)\n",
    "# Define schema\n",
    "schema = StructType([\n",
    "    StructField(\"image_data\", BinaryType(), False)\n",
    "])\n",
    "\n",
    "# Create a DataFrame with the image data\n",
    "image_df = spark.createDataFrame([(image_data,)], schema)\n",
    "\n",
    "# Show DataFrame\n",
    "image_df.show()"
   ]
  },
  {
   "cell_type": "code",
   "execution_count": 0,
   "metadata": {
    "application/vnd.databricks.v1+cell": {
     "cellMetadata": {
      "byteLimit": 2048000,
      "rowLimit": 10000
     },
     "inputWidgets": {},
     "nuid": "042fea78-9242-4742-aa3b-eccbaa36239c",
     "showTitle": false,
     "title": ""
    }
   },
   "outputs": [],
   "source": [
    "display_image(image_data)"
   ]
  },
  {
   "cell_type": "code",
   "execution_count": 0,
   "metadata": {
    "application/vnd.databricks.v1+cell": {
     "cellMetadata": {
      "byteLimit": 2048000,
      "rowLimit": 10000
     },
     "inputWidgets": {},
     "nuid": "bff42739-d5d5-4bf5-80ab-301b629c1279",
     "showTitle": false,
     "title": ""
    }
   },
   "outputs": [],
   "source": [
    "# Convert image data to a numpy array\n",
    "image_np = np.frombuffer(image_data, np.uint8)\n",
    "# Decode the numpy array into an image\n",
    "image = cv2.imdecode(image_np, cv2.IMREAD_COLOR)\n",
    "image_rgb = cv2.cvtColor(image, cv2.COLOR_BGR2RGB)\n",
    "\n",
    "gray_image = cv2.cvtColor(image, cv2.COLOR_BGR2GRAY)\n",
    "\n",
    "df_with_size = image_df.withColumn(\"filesize\", length(\"image_data\"))\n",
    "\n",
    "mean_brightness = np.mean(gray_image)\n",
    "std_contrast = np.std(gray_image)\n",
    "\n",
    "final_df = df_with_size.withColumn(\"mean_brightness\", lit(mean_brightness)).withColumn(\"std_contrast\", lit(std_contrast))\n",
    "\n",
    "final_df.display()"
   ]
  },
  {
   "cell_type": "code",
   "execution_count": 0,
   "metadata": {
    "application/vnd.databricks.v1+cell": {
     "cellMetadata": {
      "byteLimit": 2048000,
      "rowLimit": 10000
     },
     "inputWidgets": {},
     "nuid": "512e46f7-f7e4-4589-9987-31c3d7c73822",
     "showTitle": false,
     "title": ""
    }
   },
   "outputs": [],
   "source": [
    "image_stats = final_df.select(\"filesize\", \"mean_brightness\", \"std_contrast\")\n",
    "image_stats.display()"
   ]
  },
  {
   "cell_type": "code",
   "execution_count": 0,
   "metadata": {
    "application/vnd.databricks.v1+cell": {
     "cellMetadata": {
      "byteLimit": 2048000,
      "rowLimit": 10000
     },
     "inputWidgets": {},
     "nuid": "7e1d1c4c-f6b3-4889-ae19-15a7a4cd498c",
     "showTitle": false,
     "title": ""
    }
   },
   "outputs": [],
   "source": [
    "def plot_color_histogram(image):\n",
    "    # Compute histograms for each channel\n",
    "    color = ('r', 'g', 'b')  # Red, Green, Blue\n",
    "    plt.figure(figsize=(12, 6))\n",
    "\n",
    "    for i, col in enumerate(color):\n",
    "        # Calculate histogram\n",
    "        histogram = cv2.calcHist([image], [i], None, [256], [0, 256])\n",
    "        plt.plot(histogram, color=col)\n",
    "        plt.xlim([0, 256])\n",
    "    \n",
    "    plt.title('Color Histogram')\n",
    "    plt.xlabel('Pixel Value')\n",
    "    plt.ylabel('Frequency')\n",
    "    plt.grid()\n",
    "    plt.show()\n",
    "\n",
    "# Plot the histogram\n",
    "plot_color_histogram(image_rgb)\n"
   ]
  },
  {
   "cell_type": "code",
   "execution_count": 0,
   "metadata": {
    "application/vnd.databricks.v1+cell": {
     "cellMetadata": {
      "byteLimit": 2048000,
      "rowLimit": 10000
     },
     "inputWidgets": {},
     "nuid": "126620de-e158-452a-bab0-3b4c72272cbf",
     "showTitle": false,
     "title": ""
    }
   },
   "outputs": [],
   "source": [
    "from scipy.fftpack import fft2, fftshift\n",
    "\n",
    "def compute_frequency_noise(image):\n",
    "    # Convert to grayscale if needed\n",
    "\n",
    "    \n",
    "    # Apply Fourier Transform\n",
    "    f_transform = fft2(gray_image)\n",
    "    f_transform_shifted = fftshift(f_transform)\n",
    "    \n",
    "    # Compute magnitude spectrum\n",
    "    magnitude_spectrum = np.abs(f_transform_shifted)\n",
    "    \n",
    "    # Compute noise level from magnitude spectrum\n",
    "    noise_level = np.mean(magnitude_spectrum)\n",
    "    return noise_level\n",
    "\n",
    "# Load the image\n",
    "\n",
    "\n",
    "# Compute frequency domain noise\n",
    "frequency_noise = compute_frequency_noise(image_rgb)\n",
    "print(f\"Frequency Domain Noise Level: {frequency_noise}\")\n"
   ]
  },
  {
   "cell_type": "code",
   "execution_count": 0,
   "metadata": {
    "application/vnd.databricks.v1+cell": {
     "cellMetadata": {
      "byteLimit": 2048000,
      "rowLimit": 10000
     },
     "inputWidgets": {},
     "nuid": "15a8dac6-3b6f-4eb1-9772-3a2b34c70f43",
     "showTitle": false,
     "title": ""
    }
   },
   "outputs": [],
   "source": [
    "import cv2\n",
    "import numpy as np\n",
    "import matplotlib.pyplot as plt\n",
    "from scipy.fftpack import fft2, fftshift\n",
    "\n",
    "def plot_frequency_domain(image):\n",
    "    # Convert to grayscale if needed\n",
    "    gray_image = cv2.cvtColor(image, cv2.COLOR_BGR2GRAY)\n",
    "    \n",
    "    # Apply Fourier Transform\n",
    "    f_transform = fft2(gray_image)\n",
    "    f_transform_shifted = fftshift(f_transform)\n",
    "    \n",
    "    # Compute magnitude spectrum\n",
    "    magnitude_spectrum = np.abs(f_transform_shifted)\n",
    "    \n",
    "    # Plot magnitude spectrum\n",
    "    plt.figure(figsize=(12, 6))\n",
    "    plt.imshow(np.log1p(magnitude_spectrum), cmap='gray', aspect='auto')\n",
    "    \n",
    "    # Add titles and labels\n",
    "    plt.title('Magnitude Spectrum of Frequency Domain')\n",
    "    plt.xlabel('Frequency X')\n",
    "    plt.ylabel('Frequency Y')\n",
    "    \n",
    "    # Add colorbar to show the magnitude values\n",
    "    cbar = plt.colorbar()\n",
    "    cbar.set_label('Magnitude')\n",
    "\n",
    "    plt.grid(True)\n",
    "    plt.show()\n",
    "\n",
    "\n",
    "\n",
    "plot_frequency_domain(image_rgb)"
   ]
  }
 ],
 "metadata": {
  "application/vnd.databricks.v1+notebook": {
   "dashboards": [
    {
     "elements": [
      {
       "dashboardResultIndex": 0,
       "elementNUID": "042fea78-9242-4742-aa3b-eccbaa36239c",
       "elementType": "command",
       "guid": "2e3330e2-7011-4294-a102-c5f12d45c203",
       "options": {
        "autoScaleImg": false,
        "scale": 0,
        "showTitle": false,
        "titleAlign": "center"
       },
       "position": {
        "height": 10,
        "width": 10,
        "x": 0,
        "y": 0,
        "z": null
       },
       "resultIndex": null
      }
     ],
     "globalVars": {},
     "guid": "",
     "layoutOption": {
      "grid": true,
      "stack": true
     },
     "nuid": "0e1cb96d-8486-409c-9eec-aca66a1facd7",
     "origId": 1195004339474240,
     "title": "Untitled",
     "version": "DashboardViewV1",
     "width": 1024
    },
    {
     "elements": [
      {
       "dashboardResultIndex": 0,
       "elementNUID": "15a8dac6-3b6f-4eb1-9772-3a2b34c70f43",
       "elementType": "command",
       "guid": "14610740-7c02-4b52-8fea-4dcfa7a58de5",
       "options": null,
       "position": {
        "height": 8,
        "width": 13,
        "x": 11,
        "y": 0,
        "z": null
       },
       "resultIndex": null
      },
      {
       "dashboardResultIndex": 0,
       "elementNUID": "7e1d1c4c-f6b3-4889-ae19-15a7a4cd498c",
       "elementType": "command",
       "guid": "706e7785-c70d-47b9-b952-55edf40f75be",
       "options": null,
       "position": {
        "height": 13,
        "width": 24,
        "x": 0,
        "y": 10,
        "z": null
       },
       "resultIndex": null
      },
      {
       "dashboardResultIndex": 0,
       "elementNUID": "042fea78-9242-4742-aa3b-eccbaa36239c",
       "elementType": "command",
       "guid": "744b6c93-5d3e-4388-8c2d-6a877d3aa25e",
       "options": null,
       "position": {
        "height": 10,
        "width": 11,
        "x": 0,
        "y": 0,
        "z": null
       },
       "resultIndex": null
      },
      {
       "dashboardResultIndex": 0,
       "elementNUID": "512e46f7-f7e4-4589-9987-31c3d7c73822",
       "elementType": "command",
       "guid": "f9f674c0-18a4-4309-99b6-34dc23d913c7",
       "options": null,
       "position": {
        "height": 2,
        "width": 13,
        "x": 11,
        "y": 8,
        "z": null
       },
       "resultIndex": null
      }
     ],
     "globalVars": {},
     "guid": "",
     "layoutOption": {
      "grid": true,
      "stack": true
     },
     "nuid": "2056c7f8-2639-4cf5-be43-124533c9536e",
     "origId": 1195004339474284,
     "title": "Photo DB2",
     "version": "DashboardViewV1",
     "width": 1024
    }
   ],
   "environmentMetadata": null,
   "language": "python",
   "notebookMetadata": {
    "pythonIndentUnit": 4
   },
   "notebookName": "07 Image Extraction DB2",
   "widgets": {}
  }
 },
 "nbformat": 4,
 "nbformat_minor": 0
}
